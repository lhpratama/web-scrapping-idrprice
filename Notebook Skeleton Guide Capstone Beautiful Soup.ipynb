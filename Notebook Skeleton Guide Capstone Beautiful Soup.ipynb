{
 "cells": [
  {
   "cell_type": "markdown",
   "metadata": {},
   "source": [
    "# Capstone Webscrapping using BeautifulSoup\n",
    "\n",
    "This notebook contains guidances & tasks on the data processing for the application\n",
    "\n",
    "## background\n",
    "\n",
    "(Please insert the background here )\n",
    "\n",
    "## Requesting the Data and Creating a BeautifulSoup\n",
    "\n",
    "Let's begin with requesting the web from the site with `get` method."
   ]
  },
  {
   "cell_type": "code",
   "execution_count": 1,
   "metadata": {
    "ExecuteTime": {
     "end_time": "2020-01-13T05:12:23.275508Z",
     "start_time": "2020-01-13T05:12:20.009898Z"
    }
   },
   "outputs": [],
   "source": [
    "import requests\n",
    "\n",
    "url_get = requests.get('https://www.exchange-rates.org/exchange-rate-history/usd-idr')"
   ]
  },
  {
   "cell_type": "markdown",
   "metadata": {},
   "source": [
    "To visualize what exactly you get from the `request.get`, we can use .content so ee what we exactly get, in here i slice it so it won't make our screen full of the html we get from the page. You can delete the slicing if you want to see what we fully get."
   ]
  },
  {
   "cell_type": "code",
   "execution_count": 2,
   "metadata": {
    "ExecuteTime": {
     "end_time": "2020-01-13T05:12:23.290648Z",
     "start_time": "2020-01-13T05:12:23.277650Z"
    }
   },
   "outputs": [
    {
     "data": {
      "text/plain": [
       "b'!DOCTYPE html>\\r\\n<!--[if lt IE 9]>\\r\\n<html class=\"no-js ie8 oldie\" lang=\"en\" xml:lang=\\'en\\'>\\r\\n<![endif]-->\\r\\n<!--[if gt IE 8]><!--><html class=\"no-js\" lang=\"en\" xml:lang=\\'en\\'><!--<![endif]-->\\r\\n<head>\\r\\n<title>USD to IDR exchange rate history</title>\\r\\n<meta http-equiv=\"X-UA-Compatible\" content=\"IE=edge\">\\r\\n<meta name=\"viewport\" content=\"width=device-width, initial-scale=1, maximum-scale=5\">\\r\\n<meta charset=\"utf-8\" /><meta http-equiv=\"Content-Type\" content=\"text/html; charset=utf-8\" />\\r\\n<base href=\"http'"
      ]
     },
     "execution_count": 2,
     "metadata": {},
     "output_type": "execute_result"
    }
   ],
   "source": [
    "url_get.content[1:500]"
   ]
  },
  {
   "cell_type": "markdown",
   "metadata": {},
   "source": [
    "As we can see we get a very unstructured and complex html, which actually contains the codes needed to show the webpages on your web browser. But we as human still confused what and where we can use that piece of code, so here where we use the beautifulsoup. Beautiful soup class will result a beautifulsoup object. Beautiful Soup transforms a complex HTML document into a complex tree of Python objects. \n",
    "\n",
    "Let's make Beautiful soup object and feel free to explore the object here."
   ]
  },
  {
   "cell_type": "code",
   "execution_count": 3,
   "metadata": {
    "ExecuteTime": {
     "end_time": "2020-01-13T05:12:23.808122Z",
     "start_time": "2020-01-13T05:12:23.292610Z"
    }
   },
   "outputs": [],
   "source": [
    "from bs4 import BeautifulSoup \n",
    "\n",
    "soup = BeautifulSoup(url_get.content,\"html.parser\")"
   ]
  },
  {
   "cell_type": "markdown",
   "metadata": {},
   "source": [
    "## Finding the right key to scrap the data & Extracting the right information"
   ]
  },
  {
   "cell_type": "markdown",
   "metadata": {},
   "source": [
    "Find the key and put the key into the `.find()` Put all the exploring the right key at this cell. (please change this markdown with your explanation)"
   ]
  },
  {
   "cell_type": "code",
   "execution_count": 4,
   "metadata": {
    "ExecuteTime": {
     "end_time": "2020-01-13T05:12:23.878904Z",
     "start_time": "2020-01-13T05:12:23.854974Z"
    }
   },
   "outputs": [
    {
     "name": "stdout",
     "output_type": "stream",
     "text": [
      "table border=\"0\" cellpadding=\"0\" cellspacing=\"0\" class=\"history-rates-data\">\n",
      " <thead>\n",
      "  <tr>\n",
      "   <th class=\"ltr-bidi-fix\">\n",
      "    Date\n",
      "   </th>\n",
      "   <th class=\"ltr-bidi-fix\">\n",
      "    US Dollar to Indonesian Rupiah\n",
      "   </th>\n",
      "  </tr>\n",
      " </thead>\n",
      " <tbody>\n",
      "  <tr>\n",
      "   <td>\n",
      "    <a class=\"w\" href=\"/exchange-rate-history/usd-idr-2023-09-01\">\n",
      "     September 1, 2023\n",
      "    </a>\n",
      "    <a class=\"n\" href=\"/exchange-rate-history/usd-idr-2023-09-01\">\n",
      "     2023-9-1\n",
      "    </a>\n",
      "   </td>\n",
      "   <td>\n",
      "    <span class=\"w\">\n",
      "     <span class=\n"
     ]
    }
   ],
   "source": [
    "#Pengambilan data tabel dari website\n",
    "table = soup.find('table', attrs={'class':'history-rates-data'})\n",
    "print(table.prettify()[1:500])"
   ]
  },
  {
   "cell_type": "code",
   "execution_count": 5,
   "metadata": {},
   "outputs": [
    {
     "data": {
      "text/plain": [
       "[<tr>\n",
       " <th class=\"ltr-bidi-fix\">Date</th>\n",
       " <th class=\"ltr-bidi-fix\">US Dollar to Indonesian Rupiah</th>\n",
       " </tr>]"
      ]
     },
     "execution_count": 5,
     "metadata": {},
     "output_type": "execute_result"
    }
   ],
   "source": [
    "#Pengambilan data row tabel\n",
    "table.find_all('tr')[:1]"
   ]
  },
  {
   "cell_type": "markdown",
   "metadata": {},
   "source": [
    "Finding row length."
   ]
  },
  {
   "cell_type": "code",
   "execution_count": 6,
   "metadata": {},
   "outputs": [
    {
     "data": {
      "text/plain": [
       "134"
      ]
     },
     "execution_count": 6,
     "metadata": {},
     "output_type": "execute_result"
    }
   ],
   "source": [
    "#Pengecekan jumlah row total\n",
    "row = table.find_all('tr')\n",
    "row_length = len(row)\n",
    "row_length"
   ]
  },
  {
   "cell_type": "markdown",
   "metadata": {},
   "source": [
    "Scraping process"
   ]
  },
  {
   "cell_type": "code",
   "execution_count": 21,
   "metadata": {},
   "outputs": [
    {
     "name": "stdout",
     "output_type": "stream",
     "text": [
      "[('September 1, 2023', '$1 = Rp15,258'), ('August 31, 2023', '$1 = Rp15,225'), ('August 30, 2023', '$1 = Rp15,223'), ('August 29, 2023', '$1 = Rp15,202'), ('August 28, 2023', '$1 = Rp15,248'), ('August 25, 2023', '$1 = Rp15,298'), ('August 24, 2023', '$1 = Rp15,246'), ('August 23, 2023', '$1 = Rp15,301'), ('August 22, 2023', '$1 = Rp15,324'), ('August 21, 2023', '$1 = Rp15,325'), ('August 18, 2023', '$1 = Rp15,321'), ('August 17, 2023', '$1 = Rp15,343'), ('August 16, 2023', '$1 = Rp15,369'), ('August 15, 2023', '$1 = Rp15,318'), ('August 14, 2023', '$1 = Rp15,330'), ('August 11, 2023', '$1 = Rp15,324'), ('August 10, 2023', '$1 = Rp15,263'), ('August 9, 2023', '$1 = Rp15,214'), ('August 8, 2023', '$1 = Rp15,212'), ('August 7, 2023', '$1 = Rp15,225'), ('August 4, 2023', '$1 = Rp15,153'), ('August 3, 2023', '$1 = Rp15,148'), ('August 2, 2023', '$1 = Rp15,227'), ('August 1, 2023', '$1 = Rp15,121'), ('July 31, 2023', '$1 = Rp15,099'), ('July 28, 2023', '$1 = Rp15,107'), ('July 27, 2023', '$1 = Rp15,102'), ('July 26, 2023', '$1 = Rp15,009'), ('July 25, 2023', '$1 = Rp15,027'), ('July 24, 2023', '$1 = Rp15,022'), ('July 21, 2023', '$1 = Rp15,043'), ('July 20, 2023', '$1 = Rp15,056'), ('July 19, 2023', '$1 = Rp15,009'), ('July 18, 2023', '$1 = Rp14,989'), ('July 17, 2023', '$1 = Rp14,972'), ('July 14, 2023', '$1 = Rp15,003'), ('July 13, 2023', '$1 = Rp14,954'), ('July 12, 2023', '$1 = Rp14,935'), ('July 11, 2023', '$1 = Rp15,140'), ('July 10, 2023', '$1 = Rp15,187'), ('July 7, 2023', '$1 = Rp15,162'), ('July 6, 2023', '$1 = Rp15,178'), ('July 5, 2023', '$1 = Rp15,078'), ('July 4, 2023', '$1 = Rp15,020'), ('July 3, 2023', '$1 = Rp15,063'), ('June 30, 2023', '$1 = Rp15,040'), ('June 29, 2023', '$1 = Rp15,059'), ('June 28, 2023', '$1 = Rp14,985'), ('June 27, 2023', '$1 = Rp14,988'), ('June 26, 2023', '$1 = Rp15,045'), ('June 23, 2023', '$1 = Rp15,045'), ('June 22, 2023', '$1 = Rp14,939'), ('June 21, 2023', '$1 = Rp14,945'), ('June 20, 2023', '$1 = Rp15,015'), ('June 19, 2023', '$1 = Rp15,014'), ('June 16, 2023', '$1 = Rp14,961'), ('June 15, 2023', '$1 = Rp14,903'), ('June 14, 2023', '$1 = Rp14,907'), ('June 13, 2023', '$1 = Rp14,870'), ('June 12, 2023', '$1 = Rp14,872'), ('June 9, 2023', '$1 = Rp14,889'), ('June 8, 2023', '$1 = Rp14,842'), ('June 7, 2023', '$1 = Rp14,889'), ('June 6, 2023', '$1 = Rp14,871'), ('June 5, 2023', '$1 = Rp14,855'), ('June 2, 2023', '$1 = Rp14,902'), ('June 1, 2023', '$1 = Rp14,907'), ('May 31, 2023', '$1 = Rp14,991'), ('May 30, 2023', '$1 = Rp14,983'), ('May 29, 2023', '$1 = Rp14,964'), ('May 26, 2023', '$1 = Rp15,008'), ('May 25, 2023', '$1 = Rp14,968'), ('May 24, 2023', '$1 = Rp14,943'), ('May 23, 2023', '$1 = Rp14,904'), ('May 22, 2023', '$1 = Rp14,893'), ('May 19, 2023', '$1 = Rp14,936'), ('May 18, 2023', '$1 = Rp14,923'), ('May 17, 2023', '$1 = Rp14,853'), ('May 16, 2023', '$1 = Rp14,877'), ('May 15, 2023', '$1 = Rp14,789'), ('May 12, 2023', '$1 = Rp14,844'), ('May 11, 2023', '$1 = Rp14,776'), ('May 10, 2023', '$1 = Rp14,698'), ('May 9, 2023', '$1 = Rp14,776'), ('May 8, 2023', '$1 = Rp14,744'), ('May 5, 2023', '$1 = Rp14,675'), ('May 4, 2023', '$1 = Rp14,699'), ('May 3, 2023', '$1 = Rp14,680'), ('May 2, 2023', '$1 = Rp14,747'), ('May 1, 2023', '$1 = Rp14,677'), ('April 28, 2023', '$1 = Rp14,674'), ('April 27, 2023', '$1 = Rp14,691'), ('April 26, 2023', '$1 = Rp14,841'), ('April 25, 2023', '$1 = Rp14,940'), ('April 24, 2023', '$1 = Rp14,934'), ('April 21, 2023', '$1 = Rp14,936'), ('April 20, 2023', '$1 = Rp14,954'), ('April 19, 2023', '$1 = Rp14,995'), ('April 18, 2023', '$1 = Rp14,889'), ('April 17, 2023', '$1 = Rp14,850'), ('April 14, 2023', '$1 = Rp14,782'), ('April 13, 2023', '$1 = Rp14,722'), ('April 12, 2023', '$1 = Rp14,835'), ('April 11, 2023', '$1 = Rp14,915'), ('April 10, 2023', '$1 = Rp14,950'), ('April 7, 2023', '$1 = Rp14,941'), ('April 6, 2023', '$1 = Rp14,931'), ('April 5, 2023', '$1 = Rp14,960'), ('April 4, 2023', '$1 = Rp14,957'), ('April 3, 2023', '$1 = Rp14,922'), ('March 31, 2023', '$1 = Rp14,969'), ('March 30, 2023', '$1 = Rp15,024'), ('March 29, 2023', '$1 = Rp15,034'), ('March 28, 2023', '$1 = Rp15,060'), ('March 27, 2023', '$1 = Rp15,107'), ('March 24, 2023', '$1 = Rp15,165'), ('March 23, 2023', '$1 = Rp15,085'), ('March 22, 2023', '$1 = Rp15,253'), ('March 21, 2023', '$1 = Rp15,301'), ('March 20, 2023', '$1 = Rp15,343'), ('March 17, 2023', '$1 = Rp15,375'), ('March 16, 2023', '$1 = Rp15,429'), ('March 15, 2023', '$1 = Rp15,459'), ('March 14, 2023', '$1 = Rp15,380'), ('March 13, 2023', '$1 = Rp15,416'), ('March 10, 2023', '$1 = Rp15,503'), ('March 9, 2023', '$1 = Rp15,495'), ('March 8, 2023', '$1 = Rp15,449'), ('March 7, 2023', '$1 = Rp15,429'), ('March 6, 2023', '$1 = Rp15,354')]\n"
     ]
    }
   ],
   "source": [
    "temp = []  # initiating a list\n",
    "\n",
    "# Assuming you have already obtained the 'table' element\n",
    "elements_a = table.find_all('a', href=True, attrs={'class': 'w'})\n",
    "elements_span = table.find_all('span', attrs={'class': 'w'})\n",
    "\n",
    "for i in range(min(len(elements_a), len(elements_span))):\n",
    "    tanggal = elements_a[i].text  # Assign the value to 'tanggal'\n",
    "    harga = elements_span[i].text  # Assign the value to 'harga'\n",
    "    \n",
    "    # Check if tanggal is equal to elements_a[i].text\n",
    "    # Check if harga is equal to elements_span[i].text\n",
    "    if tanggal == elements_a[i].text and harga == elements_span[i].text:\n",
    "        # If both conditions are met, append to 'temp'\n",
    "        temp.append((tanggal, harga))\n",
    "\n",
    "print(temp)"
   ]
  },
  {
   "cell_type": "markdown",
   "metadata": {},
   "source": [
    "## Creating data frame & Data wrangling"
   ]
  },
  {
   "cell_type": "markdown",
   "metadata": {},
   "source": [
    "Put the array into dataframe"
   ]
  },
  {
   "cell_type": "code",
   "execution_count": 22,
   "metadata": {
    "ExecuteTime": {
     "end_time": "2020-01-13T05:12:41.517372Z",
     "start_time": "2020-01-13T05:12:29.130015Z"
    }
   },
   "outputs": [
    {
     "data": {
      "text/html": [
       "<div>\n",
       "<style scoped>\n",
       "    .dataframe tbody tr th:only-of-type {\n",
       "        vertical-align: middle;\n",
       "    }\n",
       "\n",
       "    .dataframe tbody tr th {\n",
       "        vertical-align: top;\n",
       "    }\n",
       "\n",
       "    .dataframe thead th {\n",
       "        text-align: right;\n",
       "    }\n",
       "</style>\n",
       "<table border=\"1\" class=\"dataframe\">\n",
       "  <thead>\n",
       "    <tr style=\"text-align: right;\">\n",
       "      <th></th>\n",
       "      <th>Tanggal</th>\n",
       "      <th>Harga</th>\n",
       "    </tr>\n",
       "  </thead>\n",
       "  <tbody>\n",
       "    <tr>\n",
       "      <th>0</th>\n",
       "      <td>September 1, 2023</td>\n",
       "      <td>$1 = Rp15,258</td>\n",
       "    </tr>\n",
       "    <tr>\n",
       "      <th>1</th>\n",
       "      <td>August 31, 2023</td>\n",
       "      <td>$1 = Rp15,225</td>\n",
       "    </tr>\n",
       "    <tr>\n",
       "      <th>2</th>\n",
       "      <td>August 30, 2023</td>\n",
       "      <td>$1 = Rp15,223</td>\n",
       "    </tr>\n",
       "    <tr>\n",
       "      <th>3</th>\n",
       "      <td>August 29, 2023</td>\n",
       "      <td>$1 = Rp15,202</td>\n",
       "    </tr>\n",
       "    <tr>\n",
       "      <th>4</th>\n",
       "      <td>August 28, 2023</td>\n",
       "      <td>$1 = Rp15,248</td>\n",
       "    </tr>\n",
       "  </tbody>\n",
       "</table>\n",
       "</div>"
      ],
      "text/plain": [
       "             Tanggal          Harga\n",
       "0  September 1, 2023  $1 = Rp15,258\n",
       "1    August 31, 2023  $1 = Rp15,225\n",
       "2    August 30, 2023  $1 = Rp15,223\n",
       "3    August 29, 2023  $1 = Rp15,202\n",
       "4    August 28, 2023  $1 = Rp15,248"
      ]
     },
     "execution_count": 22,
     "metadata": {},
     "output_type": "execute_result"
    }
   ],
   "source": [
    "import pandas as pd\n",
    "\n",
    "df = pd.DataFrame(temp, columns = ('Tanggal','Harga'))\n",
    "df.head()"
   ]
  },
  {
   "cell_type": "markdown",
   "metadata": {},
   "source": [
    "Do the data cleaning here (please change this markdown with your explanation of what you do for data wrangling)"
   ]
  },
  {
   "cell_type": "code",
   "execution_count": 23,
   "metadata": {},
   "outputs": [
    {
     "data": {
      "text/plain": [
       "Tanggal    object\n",
       "Harga      object\n",
       "dtype: object"
      ]
     },
     "execution_count": 23,
     "metadata": {},
     "output_type": "execute_result"
    }
   ],
   "source": [
    "# checking data types\n",
    "df.dtypes"
   ]
  },
  {
   "cell_type": "code",
   "execution_count": 24,
   "metadata": {
    "ExecuteTime": {
     "end_time": "2020-01-13T05:12:59.165559Z",
     "start_time": "2020-01-13T05:12:58.910012Z"
    }
   },
   "outputs": [],
   "source": [
    "#Penggantian astype Tanggal menjadi 'datetime64[ns]'\n",
    "df['Tanggal'] = df['Tanggal'].astype('datetime64[ns]')"
   ]
  },
  {
   "cell_type": "code",
   "execution_count": 25,
   "metadata": {},
   "outputs": [],
   "source": [
    "# Harga (penghilangan ''$1=Rp')\n",
    "df['Harga'] = df['Harga'].str.replace('$1 = Rp','')"
   ]
  },
  {
   "cell_type": "code",
   "execution_count": 26,
   "metadata": {},
   "outputs": [],
   "source": [
    "# Harga (penghilangan ',')\n",
    "df['Harga'] = df['Harga'].str.replace(',','')"
   ]
  },
  {
   "cell_type": "code",
   "execution_count": 27,
   "metadata": {
    "scrolled": false
   },
   "outputs": [],
   "source": [
    "# Penggantian astype Harga menjadi 'float64'\n",
    "df['Harga'] = df['Harga'].astype('int64')"
   ]
  },
  {
   "cell_type": "code",
   "execution_count": 28,
   "metadata": {
    "scrolled": false
   },
   "outputs": [
    {
     "data": {
      "text/plain": [
       "Tanggal    datetime64[ns]\n",
       "Harga               int64\n",
       "dtype: object"
      ]
     },
     "execution_count": 28,
     "metadata": {},
     "output_type": "execute_result"
    }
   ],
   "source": [
    "# Re-checking data types\n",
    "df.dtypes"
   ]
  },
  {
   "cell_type": "code",
   "execution_count": 29,
   "metadata": {
    "scrolled": true
   },
   "outputs": [],
   "source": [
    "# Set Tanggal sebagai index\n",
    "dfv1 = df.set_index(['Tanggal'])"
   ]
  },
  {
   "cell_type": "markdown",
   "metadata": {},
   "source": [
    "Data visualisation (please change this markdown with your explanation of what you do for data wrangling)"
   ]
  },
  {
   "cell_type": "markdown",
   "metadata": {},
   "source": [
    "### Implementing your webscrapping to the flask dashboard\n",
    "\n",
    "- Copy paste all of your web scrapping process to the desired position on the `app.py`\n",
    "- Changing the title of the dasboard at `index.html`"
   ]
  },
  {
   "cell_type": "markdown",
   "metadata": {},
   "source": [
    "## Finishing This Notebook with Your Analysis and Conclusion\n",
    "\n",
    "First you can do start with making the data visualisation. "
   ]
  },
  {
   "cell_type": "code",
   "execution_count": 30,
   "metadata": {
    "ExecuteTime": {
     "end_time": "2020-01-13T05:20:56.208237Z",
     "start_time": "2020-01-13T05:20:56.076043Z"
    }
   },
   "outputs": [
    {
     "data": {
      "text/plain": [
       "<Axes: xlabel='Tanggal'>"
      ]
     },
     "execution_count": 30,
     "metadata": {},
     "output_type": "execute_result"
    },
    {
     "data": {
      "image/png": "[encoded data removed]",
      "text/plain": [
       "<Figure size 640x480 with 1 Axes>"
      ]
     },
     "metadata": {},
     "output_type": "display_data"
    }
   ],
   "source": [
    "# Visualisasi data line (sehingga mempermudah membaca pergerakan kurs rupiah 6 bulan terakhir)\n",
    "dfv1.plot()"
   ]
  },
  {
   "cell_type": "markdown",
   "metadata": {},
   "source": [
    "Data tersebut menggambarkan kurs rupiah selama 6 bulan terakhir. Pada bulan Maret, kurs Rupiah mencapai nilai tertinggi dalam data, diikuti oleh tren bear hingga mencapai titik terendahnya pada akhir bulan Mei, dan kemudian mengalami tren bull hingga akhir periode data."
   ]
  },
  {
   "cell_type": "markdown",
   "metadata": {},
   "source": [
    "### Implement it at the webapps\n",
    "\n",
    "- You can create additional analysis from the data.\n",
    "- Implement it to the dashboard with at `app.py` dan `index.html`."
   ]
  }
 ],
 "metadata": {
  "kernelspec": {
   "display_name": "capstoneprojectone",
   "language": "python",
   "name": "capstoneprojectone"
  },
  "language_info": {
   "codemirror_mode": {
    "name": "ipython",
    "version": 3
   },
   "file_extension": ".py",
   "mimetype": "text/x-python",
   "name": "python",
   "nbconvert_exporter": "python",
   "pygments_lexer": "ipython3",
   "version": "3.10.12"
  }
 },
 "nbformat": 4,
 "nbformat_minor": 2
}
